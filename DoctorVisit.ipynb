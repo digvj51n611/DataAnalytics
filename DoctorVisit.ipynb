{
  "nbformat": 4,
  "nbformat_minor": 0,
  "metadata": {
    "colab": {
      "provenance": [],
      "mount_file_id": "1AHjIdZ5-Ds1cH8HTGm3zzA4xwQTOdiUI",
      "authorship_tag": "ABX9TyNFZ/3xBnwD3WNfzB0Liaoh",
      "include_colab_link": true
    },
    "kernelspec": {
      "name": "python3",
      "display_name": "Python 3"
    },
    "language_info": {
      "name": "python"
    }
  },
  "cells": [
    {
      "cell_type": "markdown",
      "metadata": {
        "id": "view-in-github",
        "colab_type": "text"
      },
      "source": [
        "<a href=\"https://colab.research.google.com/github/digvj51n611/DataAnalytics/blob/main/DoctorVisit.ipynb\" target=\"_parent\"><img src=\"https://colab.research.google.com/assets/colab-badge.svg\" alt=\"Open In Colab\"/></a>"
      ]
    },
    {
      "cell_type": "markdown",
      "source": [
        "Libraries that we may be using for the project"
      ],
      "metadata": {
        "id": "qgqd9MHtogFS"
      }
    },
    {
      "cell_type": "code",
      "source": [
        "import pandas as pd\n",
        "import numpy as np\n",
        "import seaborn as sns\n",
        "import matplotlib.pyplot as plt"
      ],
      "metadata": {
        "id": "g-0TKEKgCU4O"
      },
      "execution_count": 3,
      "outputs": []
    },
    {
      "cell_type": "markdown",
      "source": [
        "#Importing a dataset into the notebook from a csv file"
      ],
      "metadata": {
        "id": "bVIZgGQioTRI"
      }
    },
    {
      "cell_type": "code",
      "source": [
        "from google.colab import drive\n",
        "drive.mount('/content/drive')"
      ],
      "metadata": {
        "id": "HQyNyBbTAcYM"
      },
      "execution_count": null,
      "outputs": []
    },
    {
      "cell_type": "markdown",
      "source": [
        "Path to the csv file that has to be imported"
      ],
      "metadata": {
        "id": "-32D2sJeBtmz"
      }
    },
    {
      "cell_type": "code",
      "source": [
        "path = \"/content/drive/MyDrive/DA Project/doctorvisits.csv\"\n",
        "df = pd.read_csv(path)"
      ],
      "metadata": {
        "id": "-PmFSNkJBdK0"
      },
      "execution_count": 5,
      "outputs": []
    },
    {
      "cell_type": "markdown",
      "source": [
        "#Having a look at few rows and columns of dataset by using head()"
      ],
      "metadata": {
        "id": "QwgUUdGyozw0"
      }
    },
    {
      "cell_type": "code",
      "source": [
        "df.head()"
      ],
      "metadata": {
        "colab": {
          "base_uri": "https://localhost:8080/",
          "height": 206
        },
        "id": "uWIxaRFAC7yq",
        "outputId": "28f4dd28-6bb3-4fab-9274-201dfe85e072"
      },
      "execution_count": 6,
      "outputs": [
        {
          "output_type": "execute_result",
          "data": {
            "text/plain": [
              "   Unnamed: 0  visits  gender   age  income  illness  reduced  health private  \\\n",
              "0           1       1  female  0.19    0.55        1        4       1     yes   \n",
              "1           2       1  female  0.19    0.45        1        2       1     yes   \n",
              "2           3       1    male  0.19    0.90        3        0       0      no   \n",
              "3           4       1    male  0.19    0.15        1        0       0      no   \n",
              "4           5       1    male  0.19    0.45        2        5       1      no   \n",
              "\n",
              "  freepoor freerepat nchronic lchronic  \n",
              "0       no        no       no       no  \n",
              "1       no        no       no       no  \n",
              "2       no        no       no       no  \n",
              "3       no        no       no       no  \n",
              "4       no        no      yes       no  "
            ],
            "text/html": [
              "\n",
              "\n",
              "  <div id=\"df-dcfd2465-c175-4267-aeb3-74c778146335\">\n",
              "    <div class=\"colab-df-container\">\n",
              "      <div>\n",
              "<style scoped>\n",
              "    .dataframe tbody tr th:only-of-type {\n",
              "        vertical-align: middle;\n",
              "    }\n",
              "\n",
              "    .dataframe tbody tr th {\n",
              "        vertical-align: top;\n",
              "    }\n",
              "\n",
              "    .dataframe thead th {\n",
              "        text-align: right;\n",
              "    }\n",
              "</style>\n",
              "<table border=\"1\" class=\"dataframe\">\n",
              "  <thead>\n",
              "    <tr style=\"text-align: right;\">\n",
              "      <th></th>\n",
              "      <th>Unnamed: 0</th>\n",
              "      <th>visits</th>\n",
              "      <th>gender</th>\n",
              "      <th>age</th>\n",
              "      <th>income</th>\n",
              "      <th>illness</th>\n",
              "      <th>reduced</th>\n",
              "      <th>health</th>\n",
              "      <th>private</th>\n",
              "      <th>freepoor</th>\n",
              "      <th>freerepat</th>\n",
              "      <th>nchronic</th>\n",
              "      <th>lchronic</th>\n",
              "    </tr>\n",
              "  </thead>\n",
              "  <tbody>\n",
              "    <tr>\n",
              "      <th>0</th>\n",
              "      <td>1</td>\n",
              "      <td>1</td>\n",
              "      <td>female</td>\n",
              "      <td>0.19</td>\n",
              "      <td>0.55</td>\n",
              "      <td>1</td>\n",
              "      <td>4</td>\n",
              "      <td>1</td>\n",
              "      <td>yes</td>\n",
              "      <td>no</td>\n",
              "      <td>no</td>\n",
              "      <td>no</td>\n",
              "      <td>no</td>\n",
              "    </tr>\n",
              "    <tr>\n",
              "      <th>1</th>\n",
              "      <td>2</td>\n",
              "      <td>1</td>\n",
              "      <td>female</td>\n",
              "      <td>0.19</td>\n",
              "      <td>0.45</td>\n",
              "      <td>1</td>\n",
              "      <td>2</td>\n",
              "      <td>1</td>\n",
              "      <td>yes</td>\n",
              "      <td>no</td>\n",
              "      <td>no</td>\n",
              "      <td>no</td>\n",
              "      <td>no</td>\n",
              "    </tr>\n",
              "    <tr>\n",
              "      <th>2</th>\n",
              "      <td>3</td>\n",
              "      <td>1</td>\n",
              "      <td>male</td>\n",
              "      <td>0.19</td>\n",
              "      <td>0.90</td>\n",
              "      <td>3</td>\n",
              "      <td>0</td>\n",
              "      <td>0</td>\n",
              "      <td>no</td>\n",
              "      <td>no</td>\n",
              "      <td>no</td>\n",
              "      <td>no</td>\n",
              "      <td>no</td>\n",
              "    </tr>\n",
              "    <tr>\n",
              "      <th>3</th>\n",
              "      <td>4</td>\n",
              "      <td>1</td>\n",
              "      <td>male</td>\n",
              "      <td>0.19</td>\n",
              "      <td>0.15</td>\n",
              "      <td>1</td>\n",
              "      <td>0</td>\n",
              "      <td>0</td>\n",
              "      <td>no</td>\n",
              "      <td>no</td>\n",
              "      <td>no</td>\n",
              "      <td>no</td>\n",
              "      <td>no</td>\n",
              "    </tr>\n",
              "    <tr>\n",
              "      <th>4</th>\n",
              "      <td>5</td>\n",
              "      <td>1</td>\n",
              "      <td>male</td>\n",
              "      <td>0.19</td>\n",
              "      <td>0.45</td>\n",
              "      <td>2</td>\n",
              "      <td>5</td>\n",
              "      <td>1</td>\n",
              "      <td>no</td>\n",
              "      <td>no</td>\n",
              "      <td>no</td>\n",
              "      <td>yes</td>\n",
              "      <td>no</td>\n",
              "    </tr>\n",
              "  </tbody>\n",
              "</table>\n",
              "</div>\n",
              "      <button class=\"colab-df-convert\" onclick=\"convertToInteractive('df-dcfd2465-c175-4267-aeb3-74c778146335')\"\n",
              "              title=\"Convert this dataframe to an interactive table.\"\n",
              "              style=\"display:none;\">\n",
              "\n",
              "  <svg xmlns=\"http://www.w3.org/2000/svg\" height=\"24px\"viewBox=\"0 0 24 24\"\n",
              "       width=\"24px\">\n",
              "    <path d=\"M0 0h24v24H0V0z\" fill=\"none\"/>\n",
              "    <path d=\"M18.56 5.44l.94 2.06.94-2.06 2.06-.94-2.06-.94-.94-2.06-.94 2.06-2.06.94zm-11 1L8.5 8.5l.94-2.06 2.06-.94-2.06-.94L8.5 2.5l-.94 2.06-2.06.94zm10 10l.94 2.06.94-2.06 2.06-.94-2.06-.94-.94-2.06-.94 2.06-2.06.94z\"/><path d=\"M17.41 7.96l-1.37-1.37c-.4-.4-.92-.59-1.43-.59-.52 0-1.04.2-1.43.59L10.3 9.45l-7.72 7.72c-.78.78-.78 2.05 0 2.83L4 21.41c.39.39.9.59 1.41.59.51 0 1.02-.2 1.41-.59l7.78-7.78 2.81-2.81c.8-.78.8-2.07 0-2.86zM5.41 20L4 18.59l7.72-7.72 1.47 1.35L5.41 20z\"/>\n",
              "  </svg>\n",
              "      </button>\n",
              "\n",
              "\n",
              "\n",
              "    <div id=\"df-0e75f414-f5f5-4c93-ada9-58cddf49a92d\">\n",
              "      <button class=\"colab-df-quickchart\" onclick=\"quickchart('df-0e75f414-f5f5-4c93-ada9-58cddf49a92d')\"\n",
              "              title=\"Suggest charts.\"\n",
              "              style=\"display:none;\">\n",
              "\n",
              "<svg xmlns=\"http://www.w3.org/2000/svg\" height=\"24px\"viewBox=\"0 0 24 24\"\n",
              "     width=\"24px\">\n",
              "    <g>\n",
              "        <path d=\"M19 3H5c-1.1 0-2 .9-2 2v14c0 1.1.9 2 2 2h14c1.1 0 2-.9 2-2V5c0-1.1-.9-2-2-2zM9 17H7v-7h2v7zm4 0h-2V7h2v10zm4 0h-2v-4h2v4z\"/>\n",
              "    </g>\n",
              "</svg>\n",
              "      </button>\n",
              "    </div>\n",
              "\n",
              "<style>\n",
              "  .colab-df-quickchart {\n",
              "    background-color: #E8F0FE;\n",
              "    border: none;\n",
              "    border-radius: 50%;\n",
              "    cursor: pointer;\n",
              "    display: none;\n",
              "    fill: #1967D2;\n",
              "    height: 32px;\n",
              "    padding: 0 0 0 0;\n",
              "    width: 32px;\n",
              "  }\n",
              "\n",
              "  .colab-df-quickchart:hover {\n",
              "    background-color: #E2EBFA;\n",
              "    box-shadow: 0px 1px 2px rgba(60, 64, 67, 0.3), 0px 1px 3px 1px rgba(60, 64, 67, 0.15);\n",
              "    fill: #174EA6;\n",
              "  }\n",
              "\n",
              "  [theme=dark] .colab-df-quickchart {\n",
              "    background-color: #3B4455;\n",
              "    fill: #D2E3FC;\n",
              "  }\n",
              "\n",
              "  [theme=dark] .colab-df-quickchart:hover {\n",
              "    background-color: #434B5C;\n",
              "    box-shadow: 0px 1px 3px 1px rgba(0, 0, 0, 0.15);\n",
              "    filter: drop-shadow(0px 1px 2px rgba(0, 0, 0, 0.3));\n",
              "    fill: #FFFFFF;\n",
              "  }\n",
              "</style>\n",
              "\n",
              "    <script>\n",
              "      async function quickchart(key) {\n",
              "        const containerElement = document.querySelector('#' + key);\n",
              "        const charts = await google.colab.kernel.invokeFunction(\n",
              "            'suggestCharts', [key], {});\n",
              "      }\n",
              "    </script>\n",
              "\n",
              "      <script>\n",
              "\n",
              "function displayQuickchartButton(domScope) {\n",
              "  let quickchartButtonEl =\n",
              "    domScope.querySelector('#df-0e75f414-f5f5-4c93-ada9-58cddf49a92d button.colab-df-quickchart');\n",
              "  quickchartButtonEl.style.display =\n",
              "    google.colab.kernel.accessAllowed ? 'block' : 'none';\n",
              "}\n",
              "\n",
              "        displayQuickchartButton(document);\n",
              "      </script>\n",
              "      <style>\n",
              "    .colab-df-container {\n",
              "      display:flex;\n",
              "      flex-wrap:wrap;\n",
              "      gap: 12px;\n",
              "    }\n",
              "\n",
              "    .colab-df-convert {\n",
              "      background-color: #E8F0FE;\n",
              "      border: none;\n",
              "      border-radius: 50%;\n",
              "      cursor: pointer;\n",
              "      display: none;\n",
              "      fill: #1967D2;\n",
              "      height: 32px;\n",
              "      padding: 0 0 0 0;\n",
              "      width: 32px;\n",
              "    }\n",
              "\n",
              "    .colab-df-convert:hover {\n",
              "      background-color: #E2EBFA;\n",
              "      box-shadow: 0px 1px 2px rgba(60, 64, 67, 0.3), 0px 1px 3px 1px rgba(60, 64, 67, 0.15);\n",
              "      fill: #174EA6;\n",
              "    }\n",
              "\n",
              "    [theme=dark] .colab-df-convert {\n",
              "      background-color: #3B4455;\n",
              "      fill: #D2E3FC;\n",
              "    }\n",
              "\n",
              "    [theme=dark] .colab-df-convert:hover {\n",
              "      background-color: #434B5C;\n",
              "      box-shadow: 0px 1px 3px 1px rgba(0, 0, 0, 0.15);\n",
              "      filter: drop-shadow(0px 1px 2px rgba(0, 0, 0, 0.3));\n",
              "      fill: #FFFFFF;\n",
              "    }\n",
              "  </style>\n",
              "\n",
              "      <script>\n",
              "        const buttonEl =\n",
              "          document.querySelector('#df-dcfd2465-c175-4267-aeb3-74c778146335 button.colab-df-convert');\n",
              "        buttonEl.style.display =\n",
              "          google.colab.kernel.accessAllowed ? 'block' : 'none';\n",
              "\n",
              "        async function convertToInteractive(key) {\n",
              "          const element = document.querySelector('#df-dcfd2465-c175-4267-aeb3-74c778146335');\n",
              "          const dataTable =\n",
              "            await google.colab.kernel.invokeFunction('convertToInteractive',\n",
              "                                                     [key], {});\n",
              "          if (!dataTable) return;\n",
              "\n",
              "          const docLinkHtml = 'Like what you see? Visit the ' +\n",
              "            '<a target=\"_blank\" href=https://colab.research.google.com/notebooks/data_table.ipynb>data table notebook</a>'\n",
              "            + ' to learn more about interactive tables.';\n",
              "          element.innerHTML = '';\n",
              "          dataTable['output_type'] = 'display_data';\n",
              "          await google.colab.output.renderOutput(dataTable, element);\n",
              "          const docLink = document.createElement('div');\n",
              "          docLink.innerHTML = docLinkHtml;\n",
              "          element.appendChild(docLink);\n",
              "        }\n",
              "      </script>\n",
              "    </div>\n",
              "  </div>\n"
            ]
          },
          "metadata": {},
          "execution_count": 6
        }
      ]
    },
    {
      "cell_type": "code",
      "source": [
        "df.head(10)"
      ],
      "metadata": {
        "colab": {
          "base_uri": "https://localhost:8080/",
          "height": 363
        },
        "id": "f-ge3zWmDDc7",
        "outputId": "4e0fc3c4-ee9c-4ebd-820f-a7b4234b5f38"
      },
      "execution_count": 7,
      "outputs": [
        {
          "output_type": "execute_result",
          "data": {
            "text/plain": [
              "   Unnamed: 0  visits  gender   age  income  illness  reduced  health private  \\\n",
              "0           1       1  female  0.19    0.55        1        4       1     yes   \n",
              "1           2       1  female  0.19    0.45        1        2       1     yes   \n",
              "2           3       1    male  0.19    0.90        3        0       0      no   \n",
              "3           4       1    male  0.19    0.15        1        0       0      no   \n",
              "4           5       1    male  0.19    0.45        2        5       1      no   \n",
              "5           6       1  female  0.19    0.35        5        1       9      no   \n",
              "6           7       1  female  0.19    0.55        4        0       2      no   \n",
              "7           8       1  female  0.19    0.15        3        0       6      no   \n",
              "8           9       1  female  0.19    0.65        2        0       5     yes   \n",
              "9          10       1    male  0.19    0.15        1        0       0     yes   \n",
              "\n",
              "  freepoor freerepat nchronic lchronic  \n",
              "0       no        no       no       no  \n",
              "1       no        no       no       no  \n",
              "2       no        no       no       no  \n",
              "3       no        no       no       no  \n",
              "4       no        no      yes       no  \n",
              "5       no        no      yes       no  \n",
              "6       no        no       no       no  \n",
              "7       no        no       no       no  \n",
              "8       no        no       no       no  \n",
              "9       no        no       no       no  "
            ],
            "text/html": [
              "\n",
              "\n",
              "  <div id=\"df-0ff70701-7e1e-44af-999a-2372b5708add\">\n",
              "    <div class=\"colab-df-container\">\n",
              "      <div>\n",
              "<style scoped>\n",
              "    .dataframe tbody tr th:only-of-type {\n",
              "        vertical-align: middle;\n",
              "    }\n",
              "\n",
              "    .dataframe tbody tr th {\n",
              "        vertical-align: top;\n",
              "    }\n",
              "\n",
              "    .dataframe thead th {\n",
              "        text-align: right;\n",
              "    }\n",
              "</style>\n",
              "<table border=\"1\" class=\"dataframe\">\n",
              "  <thead>\n",
              "    <tr style=\"text-align: right;\">\n",
              "      <th></th>\n",
              "      <th>Unnamed: 0</th>\n",
              "      <th>visits</th>\n",
              "      <th>gender</th>\n",
              "      <th>age</th>\n",
              "      <th>income</th>\n",
              "      <th>illness</th>\n",
              "      <th>reduced</th>\n",
              "      <th>health</th>\n",
              "      <th>private</th>\n",
              "      <th>freepoor</th>\n",
              "      <th>freerepat</th>\n",
              "      <th>nchronic</th>\n",
              "      <th>lchronic</th>\n",
              "    </tr>\n",
              "  </thead>\n",
              "  <tbody>\n",
              "    <tr>\n",
              "      <th>0</th>\n",
              "      <td>1</td>\n",
              "      <td>1</td>\n",
              "      <td>female</td>\n",
              "      <td>0.19</td>\n",
              "      <td>0.55</td>\n",
              "      <td>1</td>\n",
              "      <td>4</td>\n",
              "      <td>1</td>\n",
              "      <td>yes</td>\n",
              "      <td>no</td>\n",
              "      <td>no</td>\n",
              "      <td>no</td>\n",
              "      <td>no</td>\n",
              "    </tr>\n",
              "    <tr>\n",
              "      <th>1</th>\n",
              "      <td>2</td>\n",
              "      <td>1</td>\n",
              "      <td>female</td>\n",
              "      <td>0.19</td>\n",
              "      <td>0.45</td>\n",
              "      <td>1</td>\n",
              "      <td>2</td>\n",
              "      <td>1</td>\n",
              "      <td>yes</td>\n",
              "      <td>no</td>\n",
              "      <td>no</td>\n",
              "      <td>no</td>\n",
              "      <td>no</td>\n",
              "    </tr>\n",
              "    <tr>\n",
              "      <th>2</th>\n",
              "      <td>3</td>\n",
              "      <td>1</td>\n",
              "      <td>male</td>\n",
              "      <td>0.19</td>\n",
              "      <td>0.90</td>\n",
              "      <td>3</td>\n",
              "      <td>0</td>\n",
              "      <td>0</td>\n",
              "      <td>no</td>\n",
              "      <td>no</td>\n",
              "      <td>no</td>\n",
              "      <td>no</td>\n",
              "      <td>no</td>\n",
              "    </tr>\n",
              "    <tr>\n",
              "      <th>3</th>\n",
              "      <td>4</td>\n",
              "      <td>1</td>\n",
              "      <td>male</td>\n",
              "      <td>0.19</td>\n",
              "      <td>0.15</td>\n",
              "      <td>1</td>\n",
              "      <td>0</td>\n",
              "      <td>0</td>\n",
              "      <td>no</td>\n",
              "      <td>no</td>\n",
              "      <td>no</td>\n",
              "      <td>no</td>\n",
              "      <td>no</td>\n",
              "    </tr>\n",
              "    <tr>\n",
              "      <th>4</th>\n",
              "      <td>5</td>\n",
              "      <td>1</td>\n",
              "      <td>male</td>\n",
              "      <td>0.19</td>\n",
              "      <td>0.45</td>\n",
              "      <td>2</td>\n",
              "      <td>5</td>\n",
              "      <td>1</td>\n",
              "      <td>no</td>\n",
              "      <td>no</td>\n",
              "      <td>no</td>\n",
              "      <td>yes</td>\n",
              "      <td>no</td>\n",
              "    </tr>\n",
              "    <tr>\n",
              "      <th>5</th>\n",
              "      <td>6</td>\n",
              "      <td>1</td>\n",
              "      <td>female</td>\n",
              "      <td>0.19</td>\n",
              "      <td>0.35</td>\n",
              "      <td>5</td>\n",
              "      <td>1</td>\n",
              "      <td>9</td>\n",
              "      <td>no</td>\n",
              "      <td>no</td>\n",
              "      <td>no</td>\n",
              "      <td>yes</td>\n",
              "      <td>no</td>\n",
              "    </tr>\n",
              "    <tr>\n",
              "      <th>6</th>\n",
              "      <td>7</td>\n",
              "      <td>1</td>\n",
              "      <td>female</td>\n",
              "      <td>0.19</td>\n",
              "      <td>0.55</td>\n",
              "      <td>4</td>\n",
              "      <td>0</td>\n",
              "      <td>2</td>\n",
              "      <td>no</td>\n",
              "      <td>no</td>\n",
              "      <td>no</td>\n",
              "      <td>no</td>\n",
              "      <td>no</td>\n",
              "    </tr>\n",
              "    <tr>\n",
              "      <th>7</th>\n",
              "      <td>8</td>\n",
              "      <td>1</td>\n",
              "      <td>female</td>\n",
              "      <td>0.19</td>\n",
              "      <td>0.15</td>\n",
              "      <td>3</td>\n",
              "      <td>0</td>\n",
              "      <td>6</td>\n",
              "      <td>no</td>\n",
              "      <td>no</td>\n",
              "      <td>no</td>\n",
              "      <td>no</td>\n",
              "      <td>no</td>\n",
              "    </tr>\n",
              "    <tr>\n",
              "      <th>8</th>\n",
              "      <td>9</td>\n",
              "      <td>1</td>\n",
              "      <td>female</td>\n",
              "      <td>0.19</td>\n",
              "      <td>0.65</td>\n",
              "      <td>2</td>\n",
              "      <td>0</td>\n",
              "      <td>5</td>\n",
              "      <td>yes</td>\n",
              "      <td>no</td>\n",
              "      <td>no</td>\n",
              "      <td>no</td>\n",
              "      <td>no</td>\n",
              "    </tr>\n",
              "    <tr>\n",
              "      <th>9</th>\n",
              "      <td>10</td>\n",
              "      <td>1</td>\n",
              "      <td>male</td>\n",
              "      <td>0.19</td>\n",
              "      <td>0.15</td>\n",
              "      <td>1</td>\n",
              "      <td>0</td>\n",
              "      <td>0</td>\n",
              "      <td>yes</td>\n",
              "      <td>no</td>\n",
              "      <td>no</td>\n",
              "      <td>no</td>\n",
              "      <td>no</td>\n",
              "    </tr>\n",
              "  </tbody>\n",
              "</table>\n",
              "</div>\n",
              "      <button class=\"colab-df-convert\" onclick=\"convertToInteractive('df-0ff70701-7e1e-44af-999a-2372b5708add')\"\n",
              "              title=\"Convert this dataframe to an interactive table.\"\n",
              "              style=\"display:none;\">\n",
              "\n",
              "  <svg xmlns=\"http://www.w3.org/2000/svg\" height=\"24px\"viewBox=\"0 0 24 24\"\n",
              "       width=\"24px\">\n",
              "    <path d=\"M0 0h24v24H0V0z\" fill=\"none\"/>\n",
              "    <path d=\"M18.56 5.44l.94 2.06.94-2.06 2.06-.94-2.06-.94-.94-2.06-.94 2.06-2.06.94zm-11 1L8.5 8.5l.94-2.06 2.06-.94-2.06-.94L8.5 2.5l-.94 2.06-2.06.94zm10 10l.94 2.06.94-2.06 2.06-.94-2.06-.94-.94-2.06-.94 2.06-2.06.94z\"/><path d=\"M17.41 7.96l-1.37-1.37c-.4-.4-.92-.59-1.43-.59-.52 0-1.04.2-1.43.59L10.3 9.45l-7.72 7.72c-.78.78-.78 2.05 0 2.83L4 21.41c.39.39.9.59 1.41.59.51 0 1.02-.2 1.41-.59l7.78-7.78 2.81-2.81c.8-.78.8-2.07 0-2.86zM5.41 20L4 18.59l7.72-7.72 1.47 1.35L5.41 20z\"/>\n",
              "  </svg>\n",
              "      </button>\n",
              "\n",
              "\n",
              "\n",
              "    <div id=\"df-f3676039-f7e0-44fd-818c-6b81084bc537\">\n",
              "      <button class=\"colab-df-quickchart\" onclick=\"quickchart('df-f3676039-f7e0-44fd-818c-6b81084bc537')\"\n",
              "              title=\"Suggest charts.\"\n",
              "              style=\"display:none;\">\n",
              "\n",
              "<svg xmlns=\"http://www.w3.org/2000/svg\" height=\"24px\"viewBox=\"0 0 24 24\"\n",
              "     width=\"24px\">\n",
              "    <g>\n",
              "        <path d=\"M19 3H5c-1.1 0-2 .9-2 2v14c0 1.1.9 2 2 2h14c1.1 0 2-.9 2-2V5c0-1.1-.9-2-2-2zM9 17H7v-7h2v7zm4 0h-2V7h2v10zm4 0h-2v-4h2v4z\"/>\n",
              "    </g>\n",
              "</svg>\n",
              "      </button>\n",
              "    </div>\n",
              "\n",
              "<style>\n",
              "  .colab-df-quickchart {\n",
              "    background-color: #E8F0FE;\n",
              "    border: none;\n",
              "    border-radius: 50%;\n",
              "    cursor: pointer;\n",
              "    display: none;\n",
              "    fill: #1967D2;\n",
              "    height: 32px;\n",
              "    padding: 0 0 0 0;\n",
              "    width: 32px;\n",
              "  }\n",
              "\n",
              "  .colab-df-quickchart:hover {\n",
              "    background-color: #E2EBFA;\n",
              "    box-shadow: 0px 1px 2px rgba(60, 64, 67, 0.3), 0px 1px 3px 1px rgba(60, 64, 67, 0.15);\n",
              "    fill: #174EA6;\n",
              "  }\n",
              "\n",
              "  [theme=dark] .colab-df-quickchart {\n",
              "    background-color: #3B4455;\n",
              "    fill: #D2E3FC;\n",
              "  }\n",
              "\n",
              "  [theme=dark] .colab-df-quickchart:hover {\n",
              "    background-color: #434B5C;\n",
              "    box-shadow: 0px 1px 3px 1px rgba(0, 0, 0, 0.15);\n",
              "    filter: drop-shadow(0px 1px 2px rgba(0, 0, 0, 0.3));\n",
              "    fill: #FFFFFF;\n",
              "  }\n",
              "</style>\n",
              "\n",
              "    <script>\n",
              "      async function quickchart(key) {\n",
              "        const containerElement = document.querySelector('#' + key);\n",
              "        const charts = await google.colab.kernel.invokeFunction(\n",
              "            'suggestCharts', [key], {});\n",
              "      }\n",
              "    </script>\n",
              "\n",
              "      <script>\n",
              "\n",
              "function displayQuickchartButton(domScope) {\n",
              "  let quickchartButtonEl =\n",
              "    domScope.querySelector('#df-f3676039-f7e0-44fd-818c-6b81084bc537 button.colab-df-quickchart');\n",
              "  quickchartButtonEl.style.display =\n",
              "    google.colab.kernel.accessAllowed ? 'block' : 'none';\n",
              "}\n",
              "\n",
              "        displayQuickchartButton(document);\n",
              "      </script>\n",
              "      <style>\n",
              "    .colab-df-container {\n",
              "      display:flex;\n",
              "      flex-wrap:wrap;\n",
              "      gap: 12px;\n",
              "    }\n",
              "\n",
              "    .colab-df-convert {\n",
              "      background-color: #E8F0FE;\n",
              "      border: none;\n",
              "      border-radius: 50%;\n",
              "      cursor: pointer;\n",
              "      display: none;\n",
              "      fill: #1967D2;\n",
              "      height: 32px;\n",
              "      padding: 0 0 0 0;\n",
              "      width: 32px;\n",
              "    }\n",
              "\n",
              "    .colab-df-convert:hover {\n",
              "      background-color: #E2EBFA;\n",
              "      box-shadow: 0px 1px 2px rgba(60, 64, 67, 0.3), 0px 1px 3px 1px rgba(60, 64, 67, 0.15);\n",
              "      fill: #174EA6;\n",
              "    }\n",
              "\n",
              "    [theme=dark] .colab-df-convert {\n",
              "      background-color: #3B4455;\n",
              "      fill: #D2E3FC;\n",
              "    }\n",
              "\n",
              "    [theme=dark] .colab-df-convert:hover {\n",
              "      background-color: #434B5C;\n",
              "      box-shadow: 0px 1px 3px 1px rgba(0, 0, 0, 0.15);\n",
              "      filter: drop-shadow(0px 1px 2px rgba(0, 0, 0, 0.3));\n",
              "      fill: #FFFFFF;\n",
              "    }\n",
              "  </style>\n",
              "\n",
              "      <script>\n",
              "        const buttonEl =\n",
              "          document.querySelector('#df-0ff70701-7e1e-44af-999a-2372b5708add button.colab-df-convert');\n",
              "        buttonEl.style.display =\n",
              "          google.colab.kernel.accessAllowed ? 'block' : 'none';\n",
              "\n",
              "        async function convertToInteractive(key) {\n",
              "          const element = document.querySelector('#df-0ff70701-7e1e-44af-999a-2372b5708add');\n",
              "          const dataTable =\n",
              "            await google.colab.kernel.invokeFunction('convertToInteractive',\n",
              "                                                     [key], {});\n",
              "          if (!dataTable) return;\n",
              "\n",
              "          const docLinkHtml = 'Like what you see? Visit the ' +\n",
              "            '<a target=\"_blank\" href=https://colab.research.google.com/notebooks/data_table.ipynb>data table notebook</a>'\n",
              "            + ' to learn more about interactive tables.';\n",
              "          element.innerHTML = '';\n",
              "          dataTable['output_type'] = 'display_data';\n",
              "          await google.colab.output.renderOutput(dataTable, element);\n",
              "          const docLink = document.createElement('div');\n",
              "          docLink.innerHTML = docLinkHtml;\n",
              "          element.appendChild(docLink);\n",
              "        }\n",
              "      </script>\n",
              "    </div>\n",
              "  </div>\n"
            ]
          },
          "metadata": {},
          "execution_count": 7
        }
      ]
    },
    {
      "cell_type": "markdown",
      "source": [
        "#Information about the colums of the dataset"
      ],
      "metadata": {
        "id": "3XImVC49Lzy6"
      }
    },
    {
      "cell_type": "code",
      "source": [
        "df.info()"
      ],
      "metadata": {
        "colab": {
          "base_uri": "https://localhost:8080/"
        },
        "id": "xdNQs_RtL5CG",
        "outputId": "78260391-4c28-48f1-e7ac-c30d9588ef8b"
      },
      "execution_count": 8,
      "outputs": [
        {
          "output_type": "stream",
          "name": "stdout",
          "text": [
            "<class 'pandas.core.frame.DataFrame'>\n",
            "RangeIndex: 5190 entries, 0 to 5189\n",
            "Data columns (total 13 columns):\n",
            " #   Column      Non-Null Count  Dtype  \n",
            "---  ------      --------------  -----  \n",
            " 0   Unnamed: 0  5190 non-null   int64  \n",
            " 1   visits      5190 non-null   int64  \n",
            " 2   gender      5190 non-null   object \n",
            " 3   age         5190 non-null   float64\n",
            " 4   income      5190 non-null   float64\n",
            " 5   illness     5190 non-null   int64  \n",
            " 6   reduced     5190 non-null   int64  \n",
            " 7   health      5190 non-null   int64  \n",
            " 8   private     5190 non-null   object \n",
            " 9   freepoor    5190 non-null   object \n",
            " 10  freerepat   5190 non-null   object \n",
            " 11  nchronic    5190 non-null   object \n",
            " 12  lchronic    5190 non-null   object \n",
            "dtypes: float64(2), int64(5), object(6)\n",
            "memory usage: 527.2+ KB\n"
          ]
        }
      ]
    },
    {
      "cell_type": "markdown",
      "source": [
        "Count the number of people based on illness"
      ],
      "metadata": {
        "id": "D_0wgGvfNIMK"
      }
    },
    {
      "cell_type": "markdown",
      "source": [
        "#Counting the categories of values"
      ],
      "metadata": {
        "id": "2vn6l5yxaaNu"
      }
    },
    {
      "cell_type": "code",
      "source": [
        "df[\"illness\"].value_counts()"
      ],
      "metadata": {
        "colab": {
          "base_uri": "https://localhost:8080/"
        },
        "id": "N3BjPvQBNPMU",
        "outputId": "71155e16-b9f3-4ba8-8010-6702524b7040"
      },
      "execution_count": 9,
      "outputs": [
        {
          "output_type": "execute_result",
          "data": {
            "text/plain": [
              "1    1638\n",
              "0    1554\n",
              "2     946\n",
              "3     542\n",
              "4     274\n",
              "5     236\n",
              "Name: illness, dtype: int64"
            ]
          },
          "metadata": {},
          "execution_count": 9
        }
      ]
    },
    {
      "cell_type": "markdown",
      "source": [
        "#Seeing how many males and how many females are there"
      ],
      "metadata": {
        "id": "ca0qWLPQSZ_3"
      }
    },
    {
      "cell_type": "code",
      "source": [
        "df[\"gender\"].value_counts()"
      ],
      "metadata": {
        "colab": {
          "base_uri": "https://localhost:8080/"
        },
        "id": "J9ps5JBsSga2",
        "outputId": "93bf74d8-5d02-4022-e54f-e0f555cef6d9"
      },
      "execution_count": 10,
      "outputs": [
        {
          "output_type": "execute_result",
          "data": {
            "text/plain": [
              "female    2702\n",
              "male      2488\n",
              "Name: gender, dtype: int64"
            ]
          },
          "metadata": {},
          "execution_count": 10
        }
      ]
    },
    {
      "cell_type": "markdown",
      "source": [
        "#Visualising the maximum medium and minimum values"
      ],
      "metadata": {
        "id": "FGRZVcO2S_iR"
      }
    },
    {
      "cell_type": "code",
      "source": [
        "y = list(df.income)\n",
        "plt.boxplot(y)\n",
        "plt.show()"
      ],
      "metadata": {
        "colab": {
          "base_uri": "https://localhost:8080/",
          "height": 430
        },
        "id": "gQ8y5V-0TIgA",
        "outputId": "fd75c28f-c3fc-4be9-b1d0-d5305114c5df"
      },
      "execution_count": 11,
      "outputs": [
        {
          "output_type": "display_data",
          "data": {
            "text/plain": [
              "<Figure size 640x480 with 1 Axes>"
            ],
            "image/png": "[encoded data removed]"
          },
          "metadata": {}
        }
      ]
    },
    {
      "cell_type": "markdown",
      "source": [
        "From above box plot we can say that maximum income is around 0.9 minimum is around 0.3 and medium is around 0.6."
      ],
      "metadata": {
        "id": "s9DMmlZsT2GL"
      }
    },
    {
      "cell_type": "markdown",
      "source": [
        "#Find number of days of reduced activity in males and females due to illness"
      ],
      "metadata": {
        "id": "6X863AD6UjY_"
      }
    },
    {
      "cell_type": "code",
      "source": [
        "df.groupby(['gender','reduced']).mean()"
      ],
      "metadata": {
        "colab": {
          "base_uri": "https://localhost:8080/",
          "height": 1000
        },
        "id": "4pz7BS77bMJl",
        "outputId": "bc599394-c0ed-4600-8ddd-6d39f1e9e747"
      },
      "execution_count": 13,
      "outputs": [
        {
          "output_type": "stream",
          "name": "stderr",
          "text": [
            "<ipython-input-13-7beb99933e54>:1: FutureWarning: The default value of numeric_only in DataFrameGroupBy.mean is deprecated. In a future version, numeric_only will default to False. Either specify numeric_only or select only columns which should be valid for the function.\n",
            "  df.groupby(['gender','reduced']).mean()\n"
          ]
        },
        {
          "output_type": "execute_result",
          "data": {
            "text/plain": [
              "                 Unnamed: 0    visits       age    income   illness    health\n",
              "gender reduced                                                               \n",
              "female 0        2524.038512  0.229322  0.465755  0.482735  1.462144  1.115098\n",
              "       1        1985.768421  0.400000  0.325684  0.542105  2.242105  1.610526\n",
              "       2        1622.618182  0.672727  0.391455  0.560182  2.236364  1.781818\n",
              "       3         997.311111  1.333333  0.403111  0.516000  2.733333  1.733333\n",
              "       4        1237.740741  0.851852  0.458889  0.466667  2.222222  2.074074\n",
              "       5        1169.055556  1.444444  0.401667  0.614444  2.222222  2.500000\n",
              "       6        1382.545455  1.363636  0.426364  0.622727  2.363636  1.363636\n",
              "       7        1034.846154  1.384615  0.436154  0.473462  2.653846  2.230769\n",
              "       8        1883.090909  1.090909  0.471818  0.404545  2.181818  4.000000\n",
              "       9        1349.000000  0.500000  0.570000  0.825000  3.000000  1.000000\n",
              "       10       1099.428571  2.142857  0.512857  0.421429  2.571429  2.000000\n",
              "       12       1661.000000  2.000000  0.720000  0.250000  3.500000  5.500000\n",
              "       13        906.000000  4.000000  0.720000  0.300000  4.500000  3.500000\n",
              "       14       1392.112069  1.543103  0.551724  0.427586  2.534483  4.112069\n",
              "male   0        3008.911019  0.136007  0.344703  0.694398  1.099585  0.924850\n",
              "       1        2485.158537  0.304878  0.286220  0.676341  1.743902  1.256098\n",
              "       2        2007.679245  0.471698  0.343585  0.653019  2.358491  1.547170\n",
              "       3        1909.068966  0.724138  0.334138  0.741379  2.137931  1.689655\n",
              "       4        1424.000000  0.722222  0.309444  0.869444  2.055556  2.000000\n",
              "       5        1437.272727  1.136364  0.331818  0.570455  2.272727  2.818182\n",
              "       6         562.000000  0.833333  0.340000  0.591667  2.500000  2.000000\n",
              "       7        1716.750000  0.750000  0.314167  0.655000  2.583333  4.333333\n",
              "       8         680.666667  1.333333  0.365000  0.833333  2.666667  2.000000\n",
              "       9        1375.400000  2.200000  0.310000  0.392000  2.400000  2.000000\n",
              "       10       1543.200000  1.800000  0.480000  0.590000  2.600000  4.600000\n",
              "       11        355.500000  5.000000  0.320000  1.000000  1.500000  0.500000\n",
              "       12        781.500000  2.000000  0.370000  0.515000  1.500000  1.000000\n",
              "       13        508.666667  4.000000  0.510000  0.350000  3.333333  2.333333\n",
              "       14       1236.069444  1.555556  0.476806  0.598611  2.375000  3.527778"
            ],
            "text/html": [
              "\n",
              "\n",
              "  <div id=\"df-eecd484a-f292-4c5e-aea6-2d0227b94f3b\">\n",
              "    <div class=\"colab-df-container\">\n",
              "      <div>\n",
              "<style scoped>\n",
              "    .dataframe tbody tr th:only-of-type {\n",
              "        vertical-align: middle;\n",
              "    }\n",
              "\n",
              "    .dataframe tbody tr th {\n",
              "        vertical-align: top;\n",
              "    }\n",
              "\n",
              "    .dataframe thead th {\n",
              "        text-align: right;\n",
              "    }\n",
              "</style>\n",
              "<table border=\"1\" class=\"dataframe\">\n",
              "  <thead>\n",
              "    <tr style=\"text-align: right;\">\n",
              "      <th></th>\n",
              "      <th></th>\n",
              "      <th>Unnamed: 0</th>\n",
              "      <th>visits</th>\n",
              "      <th>age</th>\n",
              "      <th>income</th>\n",
              "      <th>illness</th>\n",
              "      <th>health</th>\n",
              "    </tr>\n",
              "    <tr>\n",
              "      <th>gender</th>\n",
              "      <th>reduced</th>\n",
              "      <th></th>\n",
              "      <th></th>\n",
              "      <th></th>\n",
              "      <th></th>\n",
              "      <th></th>\n",
              "      <th></th>\n",
              "    </tr>\n",
              "  </thead>\n",
              "  <tbody>\n",
              "    <tr>\n",
              "      <th rowspan=\"14\" valign=\"top\">female</th>\n",
              "      <th>0</th>\n",
              "      <td>2524.038512</td>\n",
              "      <td>0.229322</td>\n",
              "      <td>0.465755</td>\n",
              "      <td>0.482735</td>\n",
              "      <td>1.462144</td>\n",
              "      <td>1.115098</td>\n",
              "    </tr>\n",
              "    <tr>\n",
              "      <th>1</th>\n",
              "      <td>1985.768421</td>\n",
              "      <td>0.400000</td>\n",
              "      <td>0.325684</td>\n",
              "      <td>0.542105</td>\n",
              "      <td>2.242105</td>\n",
              "      <td>1.610526</td>\n",
              "    </tr>\n",
              "    <tr>\n",
              "      <th>2</th>\n",
              "      <td>1622.618182</td>\n",
              "      <td>0.672727</td>\n",
              "      <td>0.391455</td>\n",
              "      <td>0.560182</td>\n",
              "      <td>2.236364</td>\n",
              "      <td>1.781818</td>\n",
              "    </tr>\n",
              "    <tr>\n",
              "      <th>3</th>\n",
              "      <td>997.311111</td>\n",
              "      <td>1.333333</td>\n",
              "      <td>0.403111</td>\n",
              "      <td>0.516000</td>\n",
              "      <td>2.733333</td>\n",
              "      <td>1.733333</td>\n",
              "    </tr>\n",
              "    <tr>\n",
              "      <th>4</th>\n",
              "      <td>1237.740741</td>\n",
              "      <td>0.851852</td>\n",
              "      <td>0.458889</td>\n",
              "      <td>0.466667</td>\n",
              "      <td>2.222222</td>\n",
              "      <td>2.074074</td>\n",
              "    </tr>\n",
              "    <tr>\n",
              "      <th>5</th>\n",
              "      <td>1169.055556</td>\n",
              "      <td>1.444444</td>\n",
              "      <td>0.401667</td>\n",
              "      <td>0.614444</td>\n",
              "      <td>2.222222</td>\n",
              "      <td>2.500000</td>\n",
              "    </tr>\n",
              "    <tr>\n",
              "      <th>6</th>\n",
              "      <td>1382.545455</td>\n",
              "      <td>1.363636</td>\n",
              "      <td>0.426364</td>\n",
              "      <td>0.622727</td>\n",
              "      <td>2.363636</td>\n",
              "      <td>1.363636</td>\n",
              "    </tr>\n",
              "    <tr>\n",
              "      <th>7</th>\n",
              "      <td>1034.846154</td>\n",
              "      <td>1.384615</td>\n",
              "      <td>0.436154</td>\n",
              "      <td>0.473462</td>\n",
              "      <td>2.653846</td>\n",
              "      <td>2.230769</td>\n",
              "    </tr>\n",
              "    <tr>\n",
              "      <th>8</th>\n",
              "      <td>1883.090909</td>\n",
              "      <td>1.090909</td>\n",
              "      <td>0.471818</td>\n",
              "      <td>0.404545</td>\n",
              "      <td>2.181818</td>\n",
              "      <td>4.000000</td>\n",
              "    </tr>\n",
              "    <tr>\n",
              "      <th>9</th>\n",
              "      <td>1349.000000</td>\n",
              "      <td>0.500000</td>\n",
              "      <td>0.570000</td>\n",
              "      <td>0.825000</td>\n",
              "      <td>3.000000</td>\n",
              "      <td>1.000000</td>\n",
              "    </tr>\n",
              "    <tr>\n",
              "      <th>10</th>\n",
              "      <td>1099.428571</td>\n",
              "      <td>2.142857</td>\n",
              "      <td>0.512857</td>\n",
              "      <td>0.421429</td>\n",
              "      <td>2.571429</td>\n",
              "      <td>2.000000</td>\n",
              "    </tr>\n",
              "    <tr>\n",
              "      <th>12</th>\n",
              "      <td>1661.000000</td>\n",
              "      <td>2.000000</td>\n",
              "      <td>0.720000</td>\n",
              "      <td>0.250000</td>\n",
              "      <td>3.500000</td>\n",
              "      <td>5.500000</td>\n",
              "    </tr>\n",
              "    <tr>\n",
              "      <th>13</th>\n",
              "      <td>906.000000</td>\n",
              "      <td>4.000000</td>\n",
              "      <td>0.720000</td>\n",
              "      <td>0.300000</td>\n",
              "      <td>4.500000</td>\n",
              "      <td>3.500000</td>\n",
              "    </tr>\n",
              "    <tr>\n",
              "      <th>14</th>\n",
              "      <td>1392.112069</td>\n",
              "      <td>1.543103</td>\n",
              "      <td>0.551724</td>\n",
              "      <td>0.427586</td>\n",
              "      <td>2.534483</td>\n",
              "      <td>4.112069</td>\n",
              "    </tr>\n",
              "    <tr>\n",
              "      <th rowspan=\"15\" valign=\"top\">male</th>\n",
              "      <th>0</th>\n",
              "      <td>3008.911019</td>\n",
              "      <td>0.136007</td>\n",
              "      <td>0.344703</td>\n",
              "      <td>0.694398</td>\n",
              "      <td>1.099585</td>\n",
              "      <td>0.924850</td>\n",
              "    </tr>\n",
              "    <tr>\n",
              "      <th>1</th>\n",
              "      <td>2485.158537</td>\n",
              "      <td>0.304878</td>\n",
              "      <td>0.286220</td>\n",
              "      <td>0.676341</td>\n",
              "      <td>1.743902</td>\n",
              "      <td>1.256098</td>\n",
              "    </tr>\n",
              "    <tr>\n",
              "      <th>2</th>\n",
              "      <td>2007.679245</td>\n",
              "      <td>0.471698</td>\n",
              "      <td>0.343585</td>\n",
              "      <td>0.653019</td>\n",
              "      <td>2.358491</td>\n",
              "      <td>1.547170</td>\n",
              "    </tr>\n",
              "    <tr>\n",
              "      <th>3</th>\n",
              "      <td>1909.068966</td>\n",
              "      <td>0.724138</td>\n",
              "      <td>0.334138</td>\n",
              "      <td>0.741379</td>\n",
              "      <td>2.137931</td>\n",
              "      <td>1.689655</td>\n",
              "    </tr>\n",
              "    <tr>\n",
              "      <th>4</th>\n",
              "      <td>1424.000000</td>\n",
              "      <td>0.722222</td>\n",
              "      <td>0.309444</td>\n",
              "      <td>0.869444</td>\n",
              "      <td>2.055556</td>\n",
              "      <td>2.000000</td>\n",
              "    </tr>\n",
              "    <tr>\n",
              "      <th>5</th>\n",
              "      <td>1437.272727</td>\n",
              "      <td>1.136364</td>\n",
              "      <td>0.331818</td>\n",
              "      <td>0.570455</td>\n",
              "      <td>2.272727</td>\n",
              "      <td>2.818182</td>\n",
              "    </tr>\n",
              "    <tr>\n",
              "      <th>6</th>\n",
              "      <td>562.000000</td>\n",
              "      <td>0.833333</td>\n",
              "      <td>0.340000</td>\n",
              "      <td>0.591667</td>\n",
              "      <td>2.500000</td>\n",
              "      <td>2.000000</td>\n",
              "    </tr>\n",
              "    <tr>\n",
              "      <th>7</th>\n",
              "      <td>1716.750000</td>\n",
              "      <td>0.750000</td>\n",
              "      <td>0.314167</td>\n",
              "      <td>0.655000</td>\n",
              "      <td>2.583333</td>\n",
              "      <td>4.333333</td>\n",
              "    </tr>\n",
              "    <tr>\n",
              "      <th>8</th>\n",
              "      <td>680.666667</td>\n",
              "      <td>1.333333</td>\n",
              "      <td>0.365000</td>\n",
              "      <td>0.833333</td>\n",
              "      <td>2.666667</td>\n",
              "      <td>2.000000</td>\n",
              "    </tr>\n",
              "    <tr>\n",
              "      <th>9</th>\n",
              "      <td>1375.400000</td>\n",
              "      <td>2.200000</td>\n",
              "      <td>0.310000</td>\n",
              "      <td>0.392000</td>\n",
              "      <td>2.400000</td>\n",
              "      <td>2.000000</td>\n",
              "    </tr>\n",
              "    <tr>\n",
              "      <th>10</th>\n",
              "      <td>1543.200000</td>\n",
              "      <td>1.800000</td>\n",
              "      <td>0.480000</td>\n",
              "      <td>0.590000</td>\n",
              "      <td>2.600000</td>\n",
              "      <td>4.600000</td>\n",
              "    </tr>\n",
              "    <tr>\n",
              "      <th>11</th>\n",
              "      <td>355.500000</td>\n",
              "      <td>5.000000</td>\n",
              "      <td>0.320000</td>\n",
              "      <td>1.000000</td>\n",
              "      <td>1.500000</td>\n",
              "      <td>0.500000</td>\n",
              "    </tr>\n",
              "    <tr>\n",
              "      <th>12</th>\n",
              "      <td>781.500000</td>\n",
              "      <td>2.000000</td>\n",
              "      <td>0.370000</td>\n",
              "      <td>0.515000</td>\n",
              "      <td>1.500000</td>\n",
              "      <td>1.000000</td>\n",
              "    </tr>\n",
              "    <tr>\n",
              "      <th>13</th>\n",
              "      <td>508.666667</td>\n",
              "      <td>4.000000</td>\n",
              "      <td>0.510000</td>\n",
              "      <td>0.350000</td>\n",
              "      <td>3.333333</td>\n",
              "      <td>2.333333</td>\n",
              "    </tr>\n",
              "    <tr>\n",
              "      <th>14</th>\n",
              "      <td>1236.069444</td>\n",
              "      <td>1.555556</td>\n",
              "      <td>0.476806</td>\n",
              "      <td>0.598611</td>\n",
              "      <td>2.375000</td>\n",
              "      <td>3.527778</td>\n",
              "    </tr>\n",
              "  </tbody>\n",
              "</table>\n",
              "</div>\n",
              "      <button class=\"colab-df-convert\" onclick=\"convertToInteractive('df-eecd484a-f292-4c5e-aea6-2d0227b94f3b')\"\n",
              "              title=\"Convert this dataframe to an interactive table.\"\n",
              "              style=\"display:none;\">\n",
              "\n",
              "  <svg xmlns=\"http://www.w3.org/2000/svg\" height=\"24px\"viewBox=\"0 0 24 24\"\n",
              "       width=\"24px\">\n",
              "    <path d=\"M0 0h24v24H0V0z\" fill=\"none\"/>\n",
              "    <path d=\"M18.56 5.44l.94 2.06.94-2.06 2.06-.94-2.06-.94-.94-2.06-.94 2.06-2.06.94zm-11 1L8.5 8.5l.94-2.06 2.06-.94-2.06-.94L8.5 2.5l-.94 2.06-2.06.94zm10 10l.94 2.06.94-2.06 2.06-.94-2.06-.94-.94-2.06-.94 2.06-2.06.94z\"/><path d=\"M17.41 7.96l-1.37-1.37c-.4-.4-.92-.59-1.43-.59-.52 0-1.04.2-1.43.59L10.3 9.45l-7.72 7.72c-.78.78-.78 2.05 0 2.83L4 21.41c.39.39.9.59 1.41.59.51 0 1.02-.2 1.41-.59l7.78-7.78 2.81-2.81c.8-.78.8-2.07 0-2.86zM5.41 20L4 18.59l7.72-7.72 1.47 1.35L5.41 20z\"/>\n",
              "  </svg>\n",
              "      </button>\n",
              "\n",
              "\n",
              "\n",
              "    <div id=\"df-ee0349c0-49f5-4ec1-9671-72f5655a6ef8\">\n",
              "      <button class=\"colab-df-quickchart\" onclick=\"quickchart('df-ee0349c0-49f5-4ec1-9671-72f5655a6ef8')\"\n",
              "              title=\"Suggest charts.\"\n",
              "              style=\"display:none;\">\n",
              "\n",
              "<svg xmlns=\"http://www.w3.org/2000/svg\" height=\"24px\"viewBox=\"0 0 24 24\"\n",
              "     width=\"24px\">\n",
              "    <g>\n",
              "        <path d=\"M19 3H5c-1.1 0-2 .9-2 2v14c0 1.1.9 2 2 2h14c1.1 0 2-.9 2-2V5c0-1.1-.9-2-2-2zM9 17H7v-7h2v7zm4 0h-2V7h2v10zm4 0h-2v-4h2v4z\"/>\n",
              "    </g>\n",
              "</svg>\n",
              "      </button>\n",
              "    </div>\n",
              "\n",
              "<style>\n",
              "  .colab-df-quickchart {\n",
              "    background-color: #E8F0FE;\n",
              "    border: none;\n",
              "    border-radius: 50%;\n",
              "    cursor: pointer;\n",
              "    display: none;\n",
              "    fill: #1967D2;\n",
              "    height: 32px;\n",
              "    padding: 0 0 0 0;\n",
              "    width: 32px;\n",
              "  }\n",
              "\n",
              "  .colab-df-quickchart:hover {\n",
              "    background-color: #E2EBFA;\n",
              "    box-shadow: 0px 1px 2px rgba(60, 64, 67, 0.3), 0px 1px 3px 1px rgba(60, 64, 67, 0.15);\n",
              "    fill: #174EA6;\n",
              "  }\n",
              "\n",
              "  [theme=dark] .colab-df-quickchart {\n",
              "    background-color: #3B4455;\n",
              "    fill: #D2E3FC;\n",
              "  }\n",
              "\n",
              "  [theme=dark] .colab-df-quickchart:hover {\n",
              "    background-color: #434B5C;\n",
              "    box-shadow: 0px 1px 3px 1px rgba(0, 0, 0, 0.15);\n",
              "    filter: drop-shadow(0px 1px 2px rgba(0, 0, 0, 0.3));\n",
              "    fill: #FFFFFF;\n",
              "  }\n",
              "</style>\n",
              "\n",
              "    <script>\n",
              "      async function quickchart(key) {\n",
              "        const containerElement = document.querySelector('#' + key);\n",
              "        const charts = await google.colab.kernel.invokeFunction(\n",
              "            'suggestCharts', [key], {});\n",
              "      }\n",
              "    </script>\n",
              "\n",
              "      <script>\n",
              "\n",
              "function displayQuickchartButton(domScope) {\n",
              "  let quickchartButtonEl =\n",
              "    domScope.querySelector('#df-ee0349c0-49f5-4ec1-9671-72f5655a6ef8 button.colab-df-quickchart');\n",
              "  quickchartButtonEl.style.display =\n",
              "    google.colab.kernel.accessAllowed ? 'block' : 'none';\n",
              "}\n",
              "\n",
              "        displayQuickchartButton(document);\n",
              "      </script>\n",
              "      <style>\n",
              "    .colab-df-container {\n",
              "      display:flex;\n",
              "      flex-wrap:wrap;\n",
              "      gap: 12px;\n",
              "    }\n",
              "\n",
              "    .colab-df-convert {\n",
              "      background-color: #E8F0FE;\n",
              "      border: none;\n",
              "      border-radius: 50%;\n",
              "      cursor: pointer;\n",
              "      display: none;\n",
              "      fill: #1967D2;\n",
              "      height: 32px;\n",
              "      padding: 0 0 0 0;\n",
              "      width: 32px;\n",
              "    }\n",
              "\n",
              "    .colab-df-convert:hover {\n",
              "      background-color: #E2EBFA;\n",
              "      box-shadow: 0px 1px 2px rgba(60, 64, 67, 0.3), 0px 1px 3px 1px rgba(60, 64, 67, 0.15);\n",
              "      fill: #174EA6;\n",
              "    }\n",
              "\n",
              "    [theme=dark] .colab-df-convert {\n",
              "      background-color: #3B4455;\n",
              "      fill: #D2E3FC;\n",
              "    }\n",
              "\n",
              "    [theme=dark] .colab-df-convert:hover {\n",
              "      background-color: #434B5C;\n",
              "      box-shadow: 0px 1px 3px 1px rgba(0, 0, 0, 0.15);\n",
              "      filter: drop-shadow(0px 1px 2px rgba(0, 0, 0, 0.3));\n",
              "      fill: #FFFFFF;\n",
              "    }\n",
              "  </style>\n",
              "\n",
              "      <script>\n",
              "        const buttonEl =\n",
              "          document.querySelector('#df-eecd484a-f292-4c5e-aea6-2d0227b94f3b button.colab-df-convert');\n",
              "        buttonEl.style.display =\n",
              "          google.colab.kernel.accessAllowed ? 'block' : 'none';\n",
              "\n",
              "        async function convertToInteractive(key) {\n",
              "          const element = document.querySelector('#df-eecd484a-f292-4c5e-aea6-2d0227b94f3b');\n",
              "          const dataTable =\n",
              "            await google.colab.kernel.invokeFunction('convertToInteractive',\n",
              "                                                     [key], {});\n",
              "          if (!dataTable) return;\n",
              "\n",
              "          const docLinkHtml = 'Like what you see? Visit the ' +\n",
              "            '<a target=\"_blank\" href=https://colab.research.google.com/notebooks/data_table.ipynb>data table notebook</a>'\n",
              "            + ' to learn more about interactive tables.';\n",
              "          element.innerHTML = '';\n",
              "          dataTable['output_type'] = 'display_data';\n",
              "          await google.colab.output.renderOutput(dataTable, element);\n",
              "          const docLink = document.createElement('div');\n",
              "          docLink.innerHTML = docLinkHtml;\n",
              "          element.appendChild(docLink);\n",
              "        }\n",
              "      </script>\n",
              "    </div>\n",
              "  </div>\n"
            ]
          },
          "metadata": {},
          "execution_count": 13
        }
      ]
    },
    {
      "cell_type": "markdown",
      "source": [
        "#Visualize if there are any missing values in the dataset by a heatmap"
      ],
      "metadata": {
        "id": "Tk_5Os_nbsZg"
      }
    },
    {
      "cell_type": "code",
      "source": [
        "sns.heatmap(df.isnull(), cbar = False , cmap = 'viridis' )"
      ],
      "metadata": {
        "colab": {
          "base_uri": "https://localhost:8080/",
          "height": 525
        },
        "id": "FiLaTUO6b32L",
        "outputId": "e413aa60-09da-4f08-a823-913fdcbab956"
      },
      "execution_count": 14,
      "outputs": [
        {
          "output_type": "execute_result",
          "data": {
            "text/plain": [
              "<Axes: >"
            ]
          },
          "metadata": {},
          "execution_count": 14
        },
        {
          "output_type": "display_data",
          "data": {
            "text/plain": [
              "<Figure size 640x480 with 1 Axes>"
            ],
            "image/png": "[encoded data removed]"
          },
          "metadata": {}
        }
      ]
    },
    {
      "cell_type": "markdown",
      "source": [
        "We can see from the above box plot that there is no heatmap in nay column of the dataset."
      ],
      "metadata": {
        "id": "hTp1gB8AcSB6"
      }
    },
    {
      "cell_type": "markdown",
      "source": [
        "#Finding the correlation between the variables in the given dataset and correlation between different variables in a dataset"
      ],
      "metadata": {
        "id": "3vzFZr54cegK"
      }
    },
    {
      "cell_type": "code",
      "source": [
        "plt.figure(figsize = (10,10))\n",
        "sns.heatmap(df.corr() , cbar = True , annot = True , cmap = 'Blues' )"
      ],
      "metadata": {
        "colab": {
          "base_uri": "https://localhost:8080/",
          "height": 908
        },
        "id": "HeQRsqzPdNU3",
        "outputId": "7319d302-2ad5-482f-8a38-810845901c4b"
      },
      "execution_count": 15,
      "outputs": [
        {
          "output_type": "stream",
          "name": "stderr",
          "text": [
            "<ipython-input-15-e6a2f46e5a62>:2: FutureWarning: The default value of numeric_only in DataFrame.corr is deprecated. In a future version, it will default to False. Select only valid columns or specify the value of numeric_only to silence this warning.\n",
            "  sns.heatmap(df.corr() , cbar = True , annot = True , cmap = 'Blues' )\n"
          ]
        },
        {
          "output_type": "execute_result",
          "data": {
            "text/plain": [
              "<Axes: >"
            ]
          },
          "metadata": {},
          "execution_count": 15
        },
        {
          "output_type": "display_data",
          "data": {
            "text/plain": [
              "<Figure size 1000x1000 with 2 Axes>"
            ],
            "image/png": "[encoded data removed]"
          },
          "metadata": {}
        }
      ]
    },
    {
      "cell_type": "markdown",
      "source": [
        "#Analysing how income of a patient is affecting the number of visits to the hospital"
      ],
      "metadata": {
        "id": "iqJbtXLVeA2P"
      }
    },
    {
      "cell_type": "code",
      "source": [
        "plt.figure(figsize=(10,10))\n",
        "plt.scatter(x = 'income' , y = 'visits' , data = df)\n",
        "plt.xlabel('income')\n",
        "plt.ylabel('vists')"
      ],
      "metadata": {
        "colab": {
          "base_uri": "https://localhost:8080/",
          "height": 867
        },
        "id": "rFz7Q73heVfA",
        "outputId": "9667e8f7-4f33-4955-9d83-7d642a1dac13"
      },
      "execution_count": 16,
      "outputs": [
        {
          "output_type": "execute_result",
          "data": {
            "text/plain": [
              "Text(0, 0.5, 'vists')"
            ]
          },
          "metadata": {},
          "execution_count": 16
        },
        {
          "output_type": "display_data",
          "data": {
            "text/plain": [
              "<Figure size 1000x1000 with 1 Axes>"
            ],
            "image/png": "[encoded data removed]"
          },
          "metadata": {}
        }
      ]
    },
    {
      "cell_type": "markdown",
      "source": [
        "#Count and Visualize the number of males and females affected by the illness"
      ],
      "metadata": {
        "id": "PMgDsJEcfiiW"
      }
    },
    {
      "cell_type": "code",
      "source": [
        "sns.histplot(df.gender , bins = 2 )"
      ],
      "metadata": {
        "colab": {
          "base_uri": "https://localhost:8080/",
          "height": 466
        },
        "id": "lVJCWbJnfuFz",
        "outputId": "c01954f2-ffcd-461a-841d-3f0e112a3d42"
      },
      "execution_count": 17,
      "outputs": [
        {
          "output_type": "execute_result",
          "data": {
            "text/plain": [
              "<Axes: xlabel='gender', ylabel='Count'>"
            ]
          },
          "metadata": {},
          "execution_count": 17
        },
        {
          "output_type": "display_data",
          "data": {
            "text/plain": [
              "<Figure size 640x480 with 1 Axes>"
            ],
            "image/png": "[encoded data removed]"
          },
          "metadata": {}
        }
      ]
    },
    {
      "cell_type": "markdown",
      "source": [
        "#Visualising the number of people getting health insurance due to low income , due to old age and also the pecentage of people having private health insurance."
      ],
      "metadata": {
        "id": "VM6pM4Y4g2zk"
      }
    },
    {
      "cell_type": "code",
      "source": [
        "#% of people getting govt insurance due to low income\n",
        "label = ['yes', 'no']\n",
        "Y = df[df['freepoor'] == 'yes' ]\n",
        "N = df[df['freepoor'] == 'no' ]\n",
        "x = [Y.shape[0], N.shape[0]]\n",
        "plt.figure(figsize=(5,5))\n",
        "plt.pie(x,labels=label)\n",
        "plt.title(\"% of people getting govt health insurance due to low income \")\n",
        "plt.show()\n",
        "#% of people having private health Insurance\n",
        "Y = df[df['private'] == 'yes' ]\n",
        "N = df[df['private'] == 'no' ]\n",
        "x = [Y.shape[0], N.shape[0]]\n",
        "plt.figure(figsize=(5,5))\n",
        "plt.pie(x,labels=label)\n",
        "plt.title(\"% of people having private health insurance \")\n",
        "plt.show()\n",
        "#% of people getting govt insurance due to old age , disablitiy or veteran states\n",
        "Y = df[df['freerepat'] == 'yes' ]\n",
        "N = df[df['freerepat'] == 'no' ]\n",
        "x = [Y.shape[0], N.shape[0]]\n",
        "plt.figure(figsize=(5,5))\n",
        "plt.pie(x,labels=label)\n",
        "plt.title(\"% of people getting govt health insurance due to old age , disability or veteran status \")\n",
        "plt.show()"
      ],
      "metadata": {
        "colab": {
          "base_uri": "https://localhost:8080/",
          "height": 1000
        },
        "id": "zTFxztishgiJ",
        "outputId": "d6b61658-3b6d-469c-a105-e4da019610be"
      },
      "execution_count": 18,
      "outputs": [
        {
          "output_type": "display_data",
          "data": {
            "text/plain": [
              "<Figure size 500x500 with 1 Axes>"
            ],
            "image/png": "[encoded data removed]"
          },
          "metadata": {}
        },
        {
          "output_type": "display_data",
          "data": {
            "text/plain": [
              "<Figure size 500x500 with 1 Axes>"
            ],
            "image/png": "[encoded data removed]"
          },
          "metadata": {}
        },
        {
          "output_type": "display_data",
          "data": {
            "text/plain": [
              "<Figure size 500x500 with 1 Axes>"
            ],
            "image/png": "[encoded data removed]"
          },
          "metadata": {}
        }
      ]
    },
    {
      "cell_type": "markdown",
      "source": [
        "#Plot a Horizonatal bar chart to analyze the reduced days of activity due to illness based on Gender"
      ],
      "metadata": {
        "id": "lw6ayqjSlSq0"
      }
    },
    {
      "cell_type": "code",
      "source": [
        "db = df.groupby('gender')['reduced'].sum().to_frame().reset_index()\n",
        "#creating the bar chart\n",
        "plt.barh(db['gender'],db['reduced'],color = ['cornflowerblue' , 'lightseagreen'])\n",
        "#Adding the aesthetics\n",
        "plt.title('Bar Chart')\n",
        "plt.xlabel(' reduced activity')\n",
        "plt.ylabel('gender')\n",
        "#show the plot\n",
        "plt.show()"
      ],
      "metadata": {
        "colab": {
          "base_uri": "https://localhost:8080/",
          "height": 472
        },
        "id": "o32D4jTwlu86",
        "outputId": "98299dc1-fa5b-4043-aff2-98aeaa20f424"
      },
      "execution_count": 20,
      "outputs": [
        {
          "output_type": "display_data",
          "data": {
            "text/plain": [
              "<Figure size 640x480 with 1 Axes>"
            ],
            "image/png": "[encoded data removed]"
          },
          "metadata": {}
        }
      ]
    }
  ]
}